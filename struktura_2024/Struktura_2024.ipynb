{
  "nbformat": 4,
  "nbformat_minor": 0,
  "metadata": {
    "colab": {
      "provenance": [],
      "include_colab_link": true
    },
    "kernelspec": {
      "name": "python3",
      "display_name": "Python 3"
    },
    "language_info": {
      "name": "python"
    }
  },
  "cells": [
    {
      "cell_type": "markdown",
      "metadata": {
        "id": "view-in-github",
        "colab_type": "text"
      },
      "source": [
        "<a href=\"https://colab.research.google.com/github/dcliebschner/LS49/blob/master/struktura_2024/Struktura_2024.ipynb\" target=\"_parent\"><img src=\"https://colab.research.google.com/assets/colab-badge.svg\" alt=\"Open In Colab\"/></a>"
      ]
    },
    {
      "cell_type": "markdown",
      "source": [
        "# **Introduction to CCTBX**\n",
        "\n",
        "The CCTBX project (computational crystallography toolbox) initially started as a library containing algorithms for the handling of unit cells, space groups, and atomic scatterers. Since then it has grown into a large project to support a variety of structural biology workflows, including x-ray and neutron crystallography, cryo-electron microscopy, and x-ray free electron lasers.\n",
        "\n",
        "The CCTBX library is written in Python, with many of the lower level algorithms accelerated using C++ via the Boost Python bindings.\n",
        "\n",
        "The principal high-level cctbx objects are:\n",
        "\n",
        "*   Data Manager: Read and write files and keep track of them\n",
        "*   Model Manager: A molecular model or models and restraints that go with them\n",
        "*   Map Manager: A 3D map or maps and information about gridding and map symmetry\n",
        "*   Map Model Manager: One or more related maps and models as a group\n",
        "*   F-Model Manager: Combines a model and a related Miller array (map coefficeints, or other data for each index of a map)\n",
        "\n",
        "These high-level cctbx objects are composed of lower-level objects that implement various concepts in macromolecular crystallography, which are in turn composed of CCTBX flex arrays for efficient computation of numerical data. Finally, user defined parameters are managed and shared betwen objects using the CCTBX Phil module.\n",
        "\n",
        "The examples presented here aim to illustrate working with the core CCTBX data types using example data. Much of the content is adapted from the official CCTBX documentation: http://cci.lbl.gov/docs/cctbx/"
      ],
      "metadata": {
        "id": "_h9_proIGAfn"
      }
    },
    {
      "cell_type": "markdown",
      "source": [
        "# **Setting up cctbx**\n",
        "First we need to set up the cctbx in this colab. Execute the following cells to install condacolab.\n",
        "\n"
      ],
      "metadata": {
        "id": "NK5osWqIHjPy"
      }
    },
    {
      "cell_type": "code",
      "execution_count": 1,
      "metadata": {
        "id": "ft3z-TiIKKmM",
        "outputId": "180fb2df-9778-41f1-eba3-b596e35632f4",
        "colab": {
          "base_uri": "https://localhost:8080/"
        },
        "cellView": "form"
      },
      "outputs": [
        {
          "output_type": "stream",
          "name": "stdout",
          "text": [
            "⏬ Downloading https://github.com/conda-forge/miniforge/releases/download/23.11.0-0/Mambaforge-23.11.0-0-Linux-x86_64.sh...\n",
            "📦 Installing...\n",
            "📌 Adjusting configuration...\n",
            "🩹 Patching environment...\n",
            "⏲ Done in 0:00:15\n",
            "🔁 Restarting kernel...\n"
          ]
        }
      ],
      "source": [
        "#@title Install condacolab so that conda packages can be used\n",
        "\n",
        "# Install condacolab so that conda packages can be used\n",
        "# https://github.com/conda-incubator/condacolab\n",
        "#\n",
        "# Important notes\n",
        "# https://github.com/conda-incubator/condacolab#shortcomings\n",
        "# 1) The kernel will automatically be restarted and show an error message about\n",
        "#    a crash (\"Your session crashed for an unknown reason\").\n",
        "#    The error can be ignored.\n",
        "# 2) Only the \"base\" environment is available, so do not create a separate\n",
        "#    environment for packages.\n",
        "!pip install -q condacolab\n",
        "import condacolab\n",
        "condacolab.install()"
      ]
    },
    {
      "cell_type": "code",
      "source": [
        "#@title Install cctbx-base\n",
        "# Wait until the error message appears near the bottom of the notebook before\n",
        "# proceeding.\n",
        "!conda install -q cctbx-base\n",
        "\n",
        "# conda installs ${CONDA_PREFIX}/share/cctbx into /usr/local instead of /usr\n",
        "# Make a copy to avoid errors\n",
        "!cp -af /usr/local/share/cctbx /usr/share/\n",
        "\n",
        "# sys.path does not have some directories with libraries, so add them here\n",
        "import sys\n",
        "py_ver = f'{sys.version_info.major}.{sys.version_info.minor}'\n",
        "for d in [f'/usr/local/lib/python{py_ver}/lib-dynload', '/usr/local/lib']:\n",
        "  if d not in sys.path:\n",
        "    sys.path.insert(0, d)\n",
        "\n",
        "# final check\n",
        "import os\n",
        "if os.path.isdir('/usr/local/share/cctbx') \\\n",
        "  and f'/usr/local/lib/python{py_ver}/lib-dynload' in sys.path \\\n",
        "  and '/usr/local/lib' in sys.path:\n",
        "  print('Finished installing cctbx-base')\n",
        "else:\n",
        "  raise RuntimeError('There was an error fixing up the installation of cctbx-base')\n"
      ],
      "metadata": {
        "id": "TFtfP--2Kdnn",
        "outputId": "16990ce6-7731-4f79-9f08-858699465cda",
        "colab": {
          "base_uri": "https://localhost:8080/"
        },
        "collapsed": true
      },
      "execution_count": 1,
      "outputs": [
        {
          "output_type": "stream",
          "name": "stdout",
          "text": [
            "Channels:\n",
            " - conda-forge\n",
            "Platform: linux-64\n",
            "Collecting package metadata (repodata.json): ...working... done\n",
            "Solving environment: ...working... done\n",
            "\n",
            "## Package Plan ##\n",
            "\n",
            "  environment location: /usr/local\n",
            "\n",
            "  added / updated specs:\n",
            "    - cctbx-base\n",
            "\n",
            "\n",
            "The following packages will be downloaded:\n",
            "\n",
            "    package                    |            build\n",
            "    ---------------------------|-----------------\n",
            "    biopython-1.84             |  py310hc51659f_0         2.7 MB  conda-forge\n",
            "    brotli-1.1.0               |       hd590300_1          19 KB  conda-forge\n",
            "    brotli-bin-1.1.0           |       hd590300_1          19 KB  conda-forge\n",
            "    ca-certificates-2024.8.30  |       hbcca054_0         155 KB  conda-forge\n",
            "    cctbx-base-2024.8          |  py310h159de0f_0        61.0 MB  conda-forge\n",
            "    certifi-2024.8.30          |     pyhd8ed1ab_0         160 KB  conda-forge\n",
            "    contourpy-1.3.0            |  py310h3788b33_1         252 KB  conda-forge\n",
            "    cycler-0.12.1              |     pyhd8ed1ab_0          13 KB  conda-forge\n",
            "    fonttools-4.53.1           |  py310ha75aee5_1         2.2 MB  conda-forge\n",
            "    freetype-2.12.1            |       h267a509_2         620 KB  conda-forge\n",
            "    future-1.0.0               |     pyhd8ed1ab_0         356 KB  conda-forge\n",
            "    jpeg-9e                    |       h0b41bf4_3         235 KB  conda-forge\n",
            "    kiwisolver-1.4.7           |  py310h3788b33_0          70 KB  conda-forge\n",
            "    lcms2-2.12                 |       hddcbb42_0         443 KB  conda-forge\n",
            "    lerc-3.0                   |       h9c3ff4c_0         216 KB  conda-forge\n",
            "    libblas-3.9.0              |23_linux64_openblas          15 KB  conda-forge\n",
            "    libboost-1.84.0            |       h8013b2b_2         2.7 MB  conda-forge\n",
            "    libboost-python-1.84.0     |  py310ha2bacc8_6         120 KB  conda-forge\n",
            "    libbrotlicommon-1.1.0      |       hd590300_1          68 KB  conda-forge\n",
            "    libbrotlidec-1.1.0         |       hd590300_1          32 KB  conda-forge\n",
            "    libbrotlienc-1.1.0         |       hd590300_1         276 KB  conda-forge\n",
            "    libcblas-3.9.0             |23_linux64_openblas          14 KB  conda-forge\n",
            "    libdeflate-1.10            |       h7f98852_0          77 KB  conda-forge\n",
            "    libgcc-14.1.0              |       h77fa898_1         827 KB  conda-forge\n",
            "    libgcc-ng-14.1.0           |       h69a702a_1          51 KB  conda-forge\n",
            "    libgfortran-14.1.0         |       h69a702a_1          51 KB  conda-forge\n",
            "    libgfortran-ng-14.1.0      |       h69a702a_1          51 KB  conda-forge\n",
            "    libgfortran5-14.1.0        |       hc5f4f2c_1         1.4 MB  conda-forge\n",
            "    libglu-9.0.0               |    ha6d2627_1004         318 KB  conda-forge\n",
            "    libgomp-14.1.0             |       h77fa898_1         449 KB  conda-forge\n",
            "    liblapack-3.9.0            |23_linux64_openblas          14 KB  conda-forge\n",
            "    libopenblas-0.3.27         |pthreads_hac2b453_1         5.3 MB  conda-forge\n",
            "    libpng-1.6.43              |       h2797004_0         281 KB  conda-forge\n",
            "    libstdcxx-14.1.0           |       hc0a3c3a_1         3.7 MB  conda-forge\n",
            "    libsvm-335                 |       h5888daf_0          68 KB  conda-forge\n",
            "    libtiff-4.3.0              |       h0fcbabc_4         635 KB  conda-forge\n",
            "    libwebp-base-1.4.0         |       hd590300_0         429 KB  conda-forge\n",
            "    libxcb-1.16                |       hb9d3cd8_1         386 KB  conda-forge\n",
            "    matplotlib-base-3.9.2      |  py310hf02ac8c_0         6.6 MB  conda-forge\n",
            "    mrcfile-1.5.3              |     pyhd8ed1ab_0          38 KB  conda-forge\n",
            "    munkres-1.1.4              |     pyh9f0ad1d_0          12 KB  conda-forge\n",
            "    numpy-2.1.1                |  py310hd6e36ab_0         7.4 MB  conda-forge\n",
            "    olefile-0.47               |     pyhd8ed1ab_0          38 KB  conda-forge\n",
            "    openjpeg-2.5.0             |       h7d73246_0         515 KB  conda-forge\n",
            "    openssl-3.3.2              |       hb9d3cd8_0         2.8 MB  conda-forge\n",
            "    pillow-8.4.0               |  py310h07f4688_0         1.4 MB  conda-forge\n",
            "    psutil-6.0.0               |  py310ha75aee5_1         362 KB  conda-forge\n",
            "    pthread-stubs-0.4          |    h36c2ea0_1001           5 KB  conda-forge\n",
            "    pyparsing-3.1.4            |     pyhd8ed1ab_0          88 KB  conda-forge\n",
            "    python-dateutil-2.9.0      |     pyhd8ed1ab_0         218 KB  conda-forge\n",
            "    qhull-2020.2               |       h434a139_5         540 KB  conda-forge\n",
            "    reportlab-3.5.68           |  py310h94fcab3_1         2.7 MB  conda-forge\n",
            "    scipy-1.14.1               |  py310ha3fb0e1_0        16.1 MB  conda-forge\n",
            "    six-1.16.0                 |     pyh6c4a22f_0          14 KB  conda-forge\n",
            "    unicodedata2-15.1.0        |  py310h2372a71_0         365 KB  conda-forge\n",
            "    xorg-kbproto-1.0.7         |    h7f98852_1002          27 KB  conda-forge\n",
            "    xorg-libx11-1.8.9          |       hb711507_1         813 KB  conda-forge\n",
            "    xorg-libxau-1.0.11         |       hd590300_0          14 KB  conda-forge\n",
            "    xorg-libxdmcp-1.1.3        |       h7f98852_0          19 KB  conda-forge\n",
            "    xorg-libxext-1.3.4         |       h0b41bf4_2          49 KB  conda-forge\n",
            "    xorg-xextproto-7.3.0       |    h0b41bf4_1003          30 KB  conda-forge\n",
            "    xorg-xproto-7.0.31         |    h7f98852_1007          73 KB  conda-forge\n",
            "    zlib-1.2.13                |       hd590300_5          91 KB  conda-forge\n",
            "    ------------------------------------------------------------\n",
            "                                           Total:       125.8 MB\n",
            "\n",
            "The following NEW packages will be INSTALLED:\n",
            "\n",
            "  biopython          conda-forge/linux-64::biopython-1.84-py310hc51659f_0 \n",
            "  brotli             conda-forge/linux-64::brotli-1.1.0-hd590300_1 \n",
            "  brotli-bin         conda-forge/linux-64::brotli-bin-1.1.0-hd590300_1 \n",
            "  cctbx-base         conda-forge/linux-64::cctbx-base-2024.8-py310h159de0f_0 \n",
            "  contourpy          conda-forge/linux-64::contourpy-1.3.0-py310h3788b33_1 \n",
            "  cycler             conda-forge/noarch::cycler-0.12.1-pyhd8ed1ab_0 \n",
            "  fonttools          conda-forge/linux-64::fonttools-4.53.1-py310ha75aee5_1 \n",
            "  freetype           conda-forge/linux-64::freetype-2.12.1-h267a509_2 \n",
            "  future             conda-forge/noarch::future-1.0.0-pyhd8ed1ab_0 \n",
            "  jpeg               conda-forge/linux-64::jpeg-9e-h0b41bf4_3 \n",
            "  kiwisolver         conda-forge/linux-64::kiwisolver-1.4.7-py310h3788b33_0 \n",
            "  lcms2              conda-forge/linux-64::lcms2-2.12-hddcbb42_0 \n",
            "  lerc               conda-forge/linux-64::lerc-3.0-h9c3ff4c_0 \n",
            "  libblas            conda-forge/linux-64::libblas-3.9.0-23_linux64_openblas \n",
            "  libboost           conda-forge/linux-64::libboost-1.84.0-h8013b2b_2 \n",
            "  libboost-python    conda-forge/linux-64::libboost-python-1.84.0-py310ha2bacc8_6 \n",
            "  libbrotlicommon    conda-forge/linux-64::libbrotlicommon-1.1.0-hd590300_1 \n",
            "  libbrotlidec       conda-forge/linux-64::libbrotlidec-1.1.0-hd590300_1 \n",
            "  libbrotlienc       conda-forge/linux-64::libbrotlienc-1.1.0-hd590300_1 \n",
            "  libcblas           conda-forge/linux-64::libcblas-3.9.0-23_linux64_openblas \n",
            "  libdeflate         conda-forge/linux-64::libdeflate-1.10-h7f98852_0 \n",
            "  libgcc             conda-forge/linux-64::libgcc-14.1.0-h77fa898_1 \n",
            "  libgfortran        conda-forge/linux-64::libgfortran-14.1.0-h69a702a_1 \n",
            "  libgfortran-ng     conda-forge/linux-64::libgfortran-ng-14.1.0-h69a702a_1 \n",
            "  libgfortran5       conda-forge/linux-64::libgfortran5-14.1.0-hc5f4f2c_1 \n",
            "  libglu             conda-forge/linux-64::libglu-9.0.0-ha6d2627_1004 \n",
            "  liblapack          conda-forge/linux-64::liblapack-3.9.0-23_linux64_openblas \n",
            "  libopenblas        conda-forge/linux-64::libopenblas-0.3.27-pthreads_hac2b453_1 \n",
            "  libpng             conda-forge/linux-64::libpng-1.6.43-h2797004_0 \n",
            "  libstdcxx          conda-forge/linux-64::libstdcxx-14.1.0-hc0a3c3a_1 \n",
            "  libsvm             conda-forge/linux-64::libsvm-335-h5888daf_0 \n",
            "  libtiff            conda-forge/linux-64::libtiff-4.3.0-h0fcbabc_4 \n",
            "  libwebp-base       conda-forge/linux-64::libwebp-base-1.4.0-hd590300_0 \n",
            "  libxcb             conda-forge/linux-64::libxcb-1.16-hb9d3cd8_1 \n",
            "  matplotlib-base    conda-forge/linux-64::matplotlib-base-3.9.2-py310hf02ac8c_0 \n",
            "  mrcfile            conda-forge/noarch::mrcfile-1.5.3-pyhd8ed1ab_0 \n",
            "  munkres            conda-forge/noarch::munkres-1.1.4-pyh9f0ad1d_0 \n",
            "  numpy              conda-forge/linux-64::numpy-2.1.1-py310hd6e36ab_0 \n",
            "  olefile            conda-forge/noarch::olefile-0.47-pyhd8ed1ab_0 \n",
            "  openjpeg           conda-forge/linux-64::openjpeg-2.5.0-h7d73246_0 \n",
            "  pillow             conda-forge/linux-64::pillow-8.4.0-py310h07f4688_0 \n",
            "  psutil             conda-forge/linux-64::psutil-6.0.0-py310ha75aee5_1 \n",
            "  pthread-stubs      conda-forge/linux-64::pthread-stubs-0.4-h36c2ea0_1001 \n",
            "  pyparsing          conda-forge/noarch::pyparsing-3.1.4-pyhd8ed1ab_0 \n",
            "  python-dateutil    conda-forge/noarch::python-dateutil-2.9.0-pyhd8ed1ab_0 \n",
            "  qhull              conda-forge/linux-64::qhull-2020.2-h434a139_5 \n",
            "  reportlab          conda-forge/linux-64::reportlab-3.5.68-py310h94fcab3_1 \n",
            "  scipy              conda-forge/linux-64::scipy-1.14.1-py310ha3fb0e1_0 \n",
            "  six                conda-forge/noarch::six-1.16.0-pyh6c4a22f_0 \n",
            "  unicodedata2       conda-forge/linux-64::unicodedata2-15.1.0-py310h2372a71_0 \n",
            "  xorg-kbproto       conda-forge/linux-64::xorg-kbproto-1.0.7-h7f98852_1002 \n",
            "  xorg-libx11        conda-forge/linux-64::xorg-libx11-1.8.9-hb711507_1 \n",
            "  xorg-libxau        conda-forge/linux-64::xorg-libxau-1.0.11-hd590300_0 \n",
            "  xorg-libxdmcp      conda-forge/linux-64::xorg-libxdmcp-1.1.3-h7f98852_0 \n",
            "  xorg-libxext       conda-forge/linux-64::xorg-libxext-1.3.4-h0b41bf4_2 \n",
            "  xorg-xextproto     conda-forge/linux-64::xorg-xextproto-7.3.0-h0b41bf4_1003 \n",
            "  xorg-xproto        conda-forge/linux-64::xorg-xproto-7.0.31-h7f98852_1007 \n",
            "  zlib               conda-forge/linux-64::zlib-1.2.13-hd590300_5 \n",
            "\n",
            "The following packages will be UPDATED:\n",
            "\n",
            "  ca-certificates                     2023.11.17-hbcca054_0 --> 2024.8.30-hbcca054_0 \n",
            "  certifi                           2023.11.17-pyhd8ed1ab_0 --> 2024.8.30-pyhd8ed1ab_0 \n",
            "  libgcc-ng                               13.2.0-h807b86a_3 --> 14.1.0-h69a702a_1 \n",
            "  libgomp                                 13.2.0-h807b86a_3 --> 14.1.0-h77fa898_1 \n",
            "  openssl                                  3.2.0-hd590300_1 --> 3.3.2-hb9d3cd8_0 \n",
            "\n",
            "\n",
            "Preparing transaction: ...working... done\n",
            "Verifying transaction: ...working... done\n",
            "Executing transaction: ...working... done\n",
            "Finished installing cctbx-base\n"
          ]
        }
      ]
    },
    {
      "cell_type": "markdown",
      "source": [
        "# **Test installation**\n",
        "\n",
        "Let's check if everything worked by running some cctbx code.\n",
        "\n",
        "We'll create 100 random numbers in a flex array. Then we print some properties of this array, i.e. the smallest value and the length of the array."
      ],
      "metadata": {
        "id": "AArepWKhJ587"
      }
    },
    {
      "cell_type": "code",
      "source": [
        "import cctbx\n",
        "from scitbx.array_family import flex\n",
        "a = flex.random_double(100)\n",
        "print('Smallest value among the 100 values: ', flex.min(a))\n",
        "print('Size of the array: ', a.size())"
      ],
      "metadata": {
        "colab": {
          "base_uri": "https://localhost:8080/"
        },
        "id": "uUYSkoD-Mt1Y",
        "outputId": "d407f38a-81ef-421a-b4af-b1d7e9bfbbe5"
      },
      "execution_count": 4,
      "outputs": [
        {
          "output_type": "stream",
          "name": "stdout",
          "text": [
            "Smallest value among the 100 values:  0.017919969198862296\n",
            "Size of the array:  100\n"
          ]
        }
      ]
    },
    {
      "cell_type": "markdown",
      "source": [
        "\n",
        "Thanks to Georg Mlynek for this example!\n"
      ],
      "metadata": {
        "id": "lf7aIciaM5OW"
      }
    },
    {
      "cell_type": "code",
      "source": [
        "from cctbx import crystal, miller\n",
        "\n",
        "crystal_symmetry = crystal.symmetry((10, 20, 30, 90, 90, 90), 'P212121')\n",
        "ms = miller.build_set(\n",
        "    crystal_symmetry=crystal_symmetry,\n",
        "    anomalous_flag=True,\n",
        "    d_min=2,\n",
        "    d_max=10\n",
        ")\n",
        "crystal_symmetry.show_summary()\n",
        "print('Resolution range', ms.d_max_min())\n",
        "print('Number of reflections', ms.indices().size())"
      ],
      "metadata": {
        "id": "jug2vYAgLpQF",
        "outputId": "fd1d651d-4150-4a2d-ebb6-d0ae2bd8e046",
        "colab": {
          "base_uri": "https://localhost:8080/"
        }
      },
      "execution_count": null,
      "outputs": [
        {
          "output_type": "stream",
          "name": "stdout",
          "text": [
            "Unit cell: (10, 20, 30, 90, 90, 90)\n",
            "Space group: P 21 21 21 (No. 19)\n",
            "Resolution range (10.0, 2.0)\n",
            "Number of reflections 762\n"
          ]
        }
      ]
    },
    {
      "cell_type": "markdown",
      "source": [
        "# **File IO with the DataManager**\n",
        "\n",
        "When you want to perform some actions on data or a model, you have to start with reading the file. Once the action is done, you probably want to write the files.\n",
        "\n",
        "To do this conveniently, you can use the cctbx DataManager. The DataManager lets you read and write files describing atomic models, restraints, reflection data files, symmetry files, sequence files, and MRC/CCP4 format map files.\n",
        "\n",
        "First, download an example file from the PDB (model 1aba):"
      ],
      "metadata": {
        "id": "lWAxkuq1OBpq"
      }
    },
    {
      "cell_type": "code",
      "source": [
        "!wget https://files.rcsb.org/view/1ABA.pdb"
      ],
      "metadata": {
        "collapsed": true,
        "id": "rDawfKTQsTKN",
        "outputId": "7f601b0a-224e-4936-9eab-a038428dc7f0",
        "colab": {
          "base_uri": "https://localhost:8080/"
        }
      },
      "execution_count": 5,
      "outputs": [
        {
          "output_type": "stream",
          "name": "stdout",
          "text": [
            "--2024-09-12 14:45:11--  https://files.rcsb.org/view/1ABA.pdb\n",
            "Resolving files.rcsb.org (files.rcsb.org)... 132.249.213.193\n",
            "Connecting to files.rcsb.org (files.rcsb.org)|132.249.213.193|:443... connected.\n",
            "HTTP request sent, awaiting response... 200 OK\n",
            "Length: unspecified [text/plain]\n",
            "Saving to: ‘1ABA.pdb’\n",
            "\n",
            "1ABA.pdb                [  <=>               ]  95.71K   210KB/s    in 0.5s    \n",
            "\n",
            "2024-09-12 14:45:12 (210 KB/s) - ‘1ABA.pdb’ saved [98010]\n",
            "\n"
          ]
        }
      ]
    },
    {
      "cell_type": "markdown",
      "source": [
        "Then let's read in this model file with the DataManager (this works for mmcif files, too!)."
      ],
      "metadata": {
        "id": "pUg_ijOXs2-m"
      }
    },
    {
      "cell_type": "code",
      "source": [
        "from iotbx.data_manager import DataManager\n",
        "dm = DataManager()\n",
        "model_1 = \"1ABA.pdb\"\n",
        "dm.process_model_file(model_1)"
      ],
      "metadata": {
        "id": "NfzbeBrMsWJ0",
        "outputId": "e2289c6e-f12f-443e-ca74-188994a6dca1",
        "colab": {
          "base_uri": "https://localhost:8080/",
          "height": 35
        }
      },
      "execution_count": 10,
      "outputs": [
        {
          "output_type": "execute_result",
          "data": {
            "text/plain": [
              "'1ABA.pdb'"
            ],
            "application/vnd.google.colaboratory.intrinsic+json": {
              "type": "string"
            }
          },
          "metadata": {},
          "execution_count": 10
        }
      ]
    },
    {
      "cell_type": "markdown",
      "source": [
        "The data manager has now read our file. If desired, a single data manager instance can read many files and store them simultaneously. To access a specific file, we can request it using the filename as the key.\n"
      ],
      "metadata": {
        "id": "6vG9kG38tYEB"
      }
    },
    {
      "cell_type": "code",
      "source": [
        "model_1_ob = dm.get_model(filename=model_1)"
      ],
      "metadata": {
        "id": "7dlvOI-euF6R"
      },
      "execution_count": 13,
      "outputs": []
    },
    {
      "cell_type": "markdown",
      "source": [
        " The cctbx model object stores all information related to a molecular model. This includes the molecular composition, space group and symmetry information, information about geometry restraints, and any metadata that was available in the input file.\n",
        " The model object has a lot of methods, you can list them with the the `dir` function."
      ],
      "metadata": {
        "id": "TdA2wnftvGmr"
      }
    },
    {
      "cell_type": "code",
      "source": [
        "print(dir(model_1_ob))"
      ],
      "metadata": {
        "id": "OUaAw5UnxNw7",
        "outputId": "12737413-4df7-4ed6-df87-d29947a16aac",
        "colab": {
          "base_uri": "https://localhost:8080/"
        }
      },
      "execution_count": 14,
      "outputs": [
        {
          "output_type": "stream",
          "name": "stdout",
          "text": [
            "['__class__', '__delattr__', '__dict__', '__dir__', '__doc__', '__eq__', '__format__', '__ge__', '__getattribute__', '__getstate__', '__gt__', '__hash__', '__init__', '__init_subclass__', '__le__', '__lt__', '__module__', '__ne__', '__new__', '__reduce__', '__reduce_ex__', '__repr__', '__setattr__', '__setstate__', '__sizeof__', '__str__', '__subclasshook__', '__weakref__', '_all_monomer_mappings', '_anomalous_scatterer_groups', '_append_pdb_atoms', '_atom_selection_cache', '_biomt_expanded', '_biomt_mtrix_container_is_good', '_clash_guard_msg', '_crystal_symmetry', '_ener_lib', '_expand_symm_helper', '_figure_out_cs_to_output', '_figure_out_hierarchy_to_output', '_get_selection_manager', '_get_ss_annotations_for_output', '_has_hd', '_info', '_master_sel', '_model_input', '_model_number', '_mon_lib_srv', '_monomer_parameters', '_mtrix_expanded', '_ncs_groups', '_ncs_obj', '_neutralized', '_original_model_format', '_pdb_hierarchy', '_pdb_interpretation_params', '_processed', '_processed_pdb_file', '_rama_eval', '_restraint_objects', '_rotamer_eval', '_rotamer_id', '_sequence_validation', '_setup_restraints_manager', '_shift_back', '_shift_cart', '_site_symmetry_table', '_ss_annotation', '_ss_manager', '_stop_for_unknowns', '_sync_xrs_labels', '_ter_indices', '_unit_cell_crystal_symmetry', '_update_atom_selection_cache', '_update_has_hd', '_update_master_sel', '_xray_structure', 'aa_residues_with_bound_sidechains', 'add_crystal_symmetry_if_necessary', 'add_hydrogens', 'add_ias', 'add_remark', 'add_solvent', 'adopt_xray_structure', 'adp_statistics', 'altlocs_present', 'anomalous_scatterer_groups_as_pdb', 'append_single_atoms', 'apply_selection_string', 'as_list_of_residue_names', 'as_map_model_manager', 'as_model_manager_each_chain', 'as_pdb_or_mmcif_string', 'as_sequence', 'atom_counts', 'attached_methods', 'biomt_expanded', 'biomt_operators', 'can_be_output_as_pdb', 'can_be_unique_with_biomt', 'cartesian_NCS_as_pdb', 'cartesian_NCS_present', 'chain_ids', 'chain_type', 'chain_types', 'chains', 'check_consistency', 'composition', 'contains_dna', 'contains_nucleic_acid', 'contains_protein', 'contains_rna', 'convert_atom', 'convert_to_isotropic', 'crystal_symmetry', 'de_deuterate', 'deep_copy', 'determine_tls_groups', 'distances_symmetric', 'energies_adp', 'exchangable_hd_groups', 'expand_with_BIOMT_records', 'expand_with_MTRIX_records', 'extend_xh_bonds', 'extract_restraints_as_cif_blocks', 'extract_water_residue_groups', 'first_chain_id', 'first_resseq_as_int', 'flip_nqh', 'format_fasta', 'from_sites_cart', 'fully_deuterated', 'geometry_statistics', 'get_anomalous_scatterer_groups', 'get_atom_selection_cache', 'get_atoms', 'get_b_iso', 'get_bonds_rmsd', 'get_cartesian_NCS_manager', 'get_current_pdb_interpretation_params', 'get_default_pdb_interpretation_params', 'get_default_pdb_interpretation_scope', 'get_ener_lib', 'get_hd_selection', 'get_header_r_free_flags_md5_hexdigest', 'get_hierarchy', 'get_ias_selection', 'get_master_hierarchy', 'get_master_selection', 'get_methods', 'get_model_input', 'get_model_statistics_info', 'get_mon_lib_srv', 'get_monomer_parameters', 'get_n_excessive_site_distances_cartesian_ncs', 'get_ncs_groups', 'get_ncs_obj', 'get_number_of_atoms', 'get_number_of_models', 'get_occ', 'get_ramachandran_manager', 'get_refinement_flags', 'get_restraint_objects', 'get_restraints_manager', 'get_riding_h_manager', 'get_rotamer_id', 'get_rotamer_manager', 'get_searched_tls_selections', 'get_site_labels', 'get_site_symmetry_table', 'get_sites_cart', 'get_sites_frac', 'get_source_filename', 'get_specific_h_bond_type', 'get_specific_ion_radius', 'get_specific_vdw_radius', 'get_ss_annotation', 'get_states_collector', 'get_stop_for_unknowns', 'get_vdw_radii', 'get_xray_structure', 'h_counts', 'has_atoms_in_special_positions', 'has_hd', 'have_anomalous_scatterer_groups', 'hd_group_selections', 'ias_manager', 'idealize_h_minimization', 'idealize_h_riding', 'idealize_ncs_inplace', 'info', 'initialize_anomalous_scatterer_groups', 'input_model_format_cif', 'input_model_format_pdb', 'is_ca_only', 'is_inside_working_cell', 'is_neutron', 'is_same_model', 'is_similar_hierarchy', 'iselection', 'isolated_atoms_selection', 'last_resseq_as_int', 'link_records_in_pdb_format', 'log', 'macromolecule_plus_hetatms_by_chain_selections', 'merge_other_model', 'merge_other_models', 'model_as_mmcif', 'model_as_pdb', 'model_number', 'model_statistics_info', 'mtrix_expanded', 'mtrix_operators', 'ncs_constraints_present', 'ncs_is_strict', 'neutralize_scatterers', 'neutron_scattering_dict', 'non_bonded_overlaps', 'normalize_adjacent_adp', 'number_of_ordered_solvent_molecules', 'occupancy_statistics', 'original_xh_lengths', 'overall_counts', 'pairs_within', 'pdb_or_mmcif_string_info', 'percent_of_single_atom_residues', 'process', 'processed', 'raise_clash_guard', 'raise_excessive_site_distances_cartesian_ncs', 'refinement_flags', 'remarks', 'remove_alternative_conformations', 'remove_hydrogens', 'remove_ias', 'remove_solvent', 'renumber_water', 'replace_model_hierarchy_with_other', 'reprocess_pdb_hierarchy_inefficient', 'reset_adp_for_hydrogens', 'reset_adp_of_hd_sites_to_be_equal', 'reset_after_changing_hierarchy', 'reset_coordinates_for_exchangable_hd', 'reset_occupancies_for_hydrogens', 'reset_occupancy_for_hydrogens_simple', 'restore_xh_bonds', 'restraints_as_geo', 'restraints_manager', 'restraints_manager_available', 'restraints_manager_energies_sites', 'riding_h_manager', 'rms_b_iso_or_b_equiv', 'rms_b_iso_or_b_equiv_bonded', 'rotamer_outlier_selection', 'rotatable_hd_selection', 'scale_adp', 'scattering_dict_info', 'scattering_dictionary', 'scattering_types_counts_and_occupancy_sums', 'search_for_ncs', 'sel_backbone', 'sel_sidechain', 'select', 'selection', 'set_anomalous_scatterer_groups', 'set_b_iso', 'set_crystal_symmetry', 'set_crystal_symmetry_and_sites_cart', 'set_hydrogen_bond_length', 'set_info', 'set_log', 'set_model_number', 'set_non_unit_occupancy_implies_min_distance_sym_equiv_zero', 'set_occupancies', 'set_ramachandran_plot_restraints', 'set_reference_coordinate_restraints', 'set_reference_torsion_restraints', 'set_refine_individual_adp', 'set_refine_individual_sites', 'set_refinement_flags', 'set_restraint_objects', 'set_sequences', 'set_shift_cart', 'set_sites_cart', 'set_sites_cart_from_hierarchy', 'set_ss_annotation', 'set_stop_for_unknowns', 'set_symmetry_and_shift_to_match_other', 'set_unit_cell_crystal_symmetry', 'set_unit_cell_crystal_symmetry_and_shift_cart', 'set_up_methods_from_hierarchy', 'set_xray_structure', 'setup_cartesian_ncs_groups', 'setup_ncs_constraints_groups', 'setup_riding_h_manager', 'setup_scattering_dictionaries', 'setup_torsion_ncs_restraints', 'shift_cart', 'shift_model_and_set_crystal_symmetry', 'shift_model_back', 'shifted', 'show_adp_statistics', 'show_groups', 'show_h_counts', 'show_occupancy_statistics', 'show_rigid_bond_test', 'size', 'solvent_selection', 'tls_groups', 'tls_groups_as_cif_block', 'tls_groups_as_pdb', 'torsion_NCS_as_pdb', 'torsion_NCS_present', 'torsion_ncs_restraints_update', 'twin_law_from_model_input', 'unit_cell_crystal_symmetry', 'unset_ncs_constraints_groups', 'unset_ramachandran_plot_restraints', 'unset_restraints_manager', 'unset_riding_h_manager', 'update_anomalous_groups', 'update_ncs_operators', 'update_xrs', 'use_ias', 'xh_connectivity_table', 'xh_connectivity_table2', 'xray_scattering_dict', 'xray_structure_macromolecule']\n"
          ]
        }
      ]
    },
    {
      "cell_type": "markdown",
      "source": [],
      "metadata": {
        "id": "1HI6JA7Pxt-G"
      }
    },
    {
      "cell_type": "code",
      "source": [
        "from libtbx.program_template import ProgramTemplate\n",
        "from libtbx.utils import Sorry\n",
        "\n",
        "class TestProgram(ProgramTemplate):\n",
        "  program_name = \"new_program\"\n",
        "  description = \"\"\"\n",
        "This is a demo of my new program\n",
        "\"\"\"\n",
        "  master_phil_str = \"\"\"\n",
        "general_param = None\n",
        "  .type = str\n",
        "  .help = A general parameter that is a string\n",
        "bool_param = None\n",
        "  .type = bool\n",
        "  .help = Something that is True or False\n",
        "parameter_section {\n",
        "  specific_param_1 = 0\n",
        "    .type = int\n",
        "    .help = This is an example of a numerical parameter in a PHIL section\n",
        "  specific_param_2 = 3.14\n",
        "    .type = float\n",
        "    .help = This is another example\n",
        "}\n",
        "\"\"\"\n",
        "  def validate(self):\n",
        "    if self.params.parameter_section.specific_param_1 < 0:\n",
        "      raise Sorry(\"The specific_param_1 must be 0 or greater\")\n",
        "\n",
        "  def run(self):\n",
        "    # just add some numbers\n",
        "    self.results = self.params.parameter_section.specific_param_1 + self.params.parameter_section.specific_param_2\n",
        "    self._print(self.results)\n",
        "\n",
        "  def get_results(self):\n",
        "    return self.results"
      ],
      "metadata": {
        "id": "grsKrY_6hvFC"
      },
      "execution_count": null,
      "outputs": []
    },
    {
      "cell_type": "code",
      "source": [
        "from iotbx.cli_parser import run_program\n",
        "\n",
        "#run_program(program_class=TestProgram, args=[])\n",
        "run_program(program_class=TestProgram, args=['bool_param=False', 'param_1=10'])"
      ],
      "metadata": {
        "id": "PPwl12CAHnwp",
        "outputId": "8f7347bb-a560-42aa-85c3-6840395bf9f9",
        "colab": {
          "base_uri": "https://localhost:8080/"
        }
      },
      "execution_count": null,
      "outputs": [
        {
          "output_type": "stream",
          "name": "stdout",
          "text": [
            "Starting new_program\n",
            "on Tue Sep 10 18:21:46 2024 by root\n",
            "===============================================================================\n",
            "\n",
            "Processing files:\n",
            "-------------------------------------------------------------------------------\n",
            "\n",
            "  No files found\n",
            "\n",
            "Processing PHIL parameters:\n",
            "-------------------------------------------------------------------------------\n",
            "\n",
            "  Adding command-line PHIL:\n",
            "  -------------------------\n",
            "    bool_param=False\n",
            "    param_1=10\n",
            "\n",
            "Final processed PHIL parameters:\n",
            "-------------------------------------------------------------------------------\n",
            "  bool_param = False\n",
            "  parameter_section {\n",
            "    specific_param_1 = 10\n",
            "  }\n",
            "\n",
            "\n",
            "Starting job\n",
            "===============================================================================\n",
            "13.14\n",
            "\n",
            "===============================================================================\n",
            "Job complete\n",
            "usr+sys time: 17.32 seconds\n",
            "wall clock time: 17.35 seconds\n"
          ]
        },
        {
          "output_type": "execute_result",
          "data": {
            "text/plain": [
              "13.14"
            ]
          },
          "metadata": {},
          "execution_count": 33
        }
      ]
    },
    {
      "cell_type": "code",
      "source": [],
      "metadata": {
        "id": "RnlRBkojIAKI"
      },
      "execution_count": null,
      "outputs": []
    }
  ]
}